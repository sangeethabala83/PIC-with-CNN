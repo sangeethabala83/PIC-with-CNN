{
  "nbformat": 4,
  "nbformat_minor": 0,
  "metadata": {
    "colab": {
      "provenance": [],
      "gpuType": "T4"
    },
    "kernelspec": {
      "name": "python3",
      "display_name": "Python 3"
    },
    "language_info": {
      "name": "python"
    },
    "accelerator": "GPU"
  },
  "cells": [
    {
      "cell_type": "markdown",
      "source": [
        "#Auto PI after three convolution layers"
      ],
      "metadata": {
        "id": "MEwtlCSctQhO"
      }
    },
    {
      "cell_type": "code",
      "source": [
        "from tensorflow.keras.preprocessing.image import load_img, img_to_array\n",
        "from tensorflow.keras.models import Sequential  # Assuming TensorFlow 2.0+\n",
        "import keras\n",
        "!pip install keras\n",
        "from tensorflow.keras.callbacks import ModelCheckpoint\n",
        "!pip install keras-preprocessing\n",
        "from tensorflow.keras.preprocessing.image import ImageDataGenerator\n",
        "from tensorflow.keras.regularizers import l1, l2\n",
        "import PIL.Image\n",
        "from tensorflow.keras.preprocessing.image import load_img"
      ],
      "metadata": {
        "colab": {
          "base_uri": "https://localhost:8080/"
        },
        "id": "Dl-8-fnxS0tT",
        "outputId": "f9d263ff-2124-49bf-fd73-763199fc4086"
      },
      "execution_count": null,
      "outputs": [
        {
          "output_type": "stream",
          "name": "stdout",
          "text": [
            "Requirement already satisfied: keras in /usr/local/lib/python3.11/dist-packages (3.8.0)\n",
            "Requirement already satisfied: absl-py in /usr/local/lib/python3.11/dist-packages (from keras) (1.4.0)\n",
            "Requirement already satisfied: numpy in /usr/local/lib/python3.11/dist-packages (from keras) (2.0.2)\n",
            "Requirement already satisfied: rich in /usr/local/lib/python3.11/dist-packages (from keras) (13.9.4)\n",
            "Requirement already satisfied: namex in /usr/local/lib/python3.11/dist-packages (from keras) (0.0.9)\n",
            "Requirement already satisfied: h5py in /usr/local/lib/python3.11/dist-packages (from keras) (3.13.0)\n",
            "Requirement already satisfied: optree in /usr/local/lib/python3.11/dist-packages (from keras) (0.15.0)\n",
            "Requirement already satisfied: ml-dtypes in /usr/local/lib/python3.11/dist-packages (from keras) (0.4.1)\n",
            "Requirement already satisfied: packaging in /usr/local/lib/python3.11/dist-packages (from keras) (24.2)\n",
            "Requirement already satisfied: typing-extensions>=4.5.0 in /usr/local/lib/python3.11/dist-packages (from optree->keras) (4.13.2)\n",
            "Requirement already satisfied: markdown-it-py>=2.2.0 in /usr/local/lib/python3.11/dist-packages (from rich->keras) (3.0.0)\n",
            "Requirement already satisfied: pygments<3.0.0,>=2.13.0 in /usr/local/lib/python3.11/dist-packages (from rich->keras) (2.19.1)\n",
            "Requirement already satisfied: mdurl~=0.1 in /usr/local/lib/python3.11/dist-packages (from markdown-it-py>=2.2.0->rich->keras) (0.1.2)\n",
            "Collecting keras-preprocessing\n",
            "  Downloading Keras_Preprocessing-1.1.2-py2.py3-none-any.whl.metadata (1.9 kB)\n",
            "Requirement already satisfied: numpy>=1.9.1 in /usr/local/lib/python3.11/dist-packages (from keras-preprocessing) (2.0.2)\n",
            "Requirement already satisfied: six>=1.9.0 in /usr/local/lib/python3.11/dist-packages (from keras-preprocessing) (1.17.0)\n",
            "Downloading Keras_Preprocessing-1.1.2-py2.py3-none-any.whl (42 kB)\n",
            "\u001b[2K   \u001b[90m━━━━━━━━━━━━━━━━━━━━━━━━━━━━━━━━━━━━━━━━\u001b[0m \u001b[32m42.6/42.6 kB\u001b[0m \u001b[31m3.0 MB/s\u001b[0m eta \u001b[36m0:00:00\u001b[0m\n",
            "\u001b[?25hInstalling collected packages: keras-preprocessing\n",
            "Successfully installed keras-preprocessing-1.1.2\n"
          ]
        }
      ]
    },
    {
      "cell_type": "code",
      "source": [
        "import zipfile\n",
        "import os\n",
        "\n",
        "# Specify the path to your zip file\n",
        "zip_file_path = '/content/archive.zip'\n",
        "\n",
        "# Specify the directory where you want to extract the files\n",
        "extract_to_dir = '/content/29unzip'\n",
        "\n",
        "# Create the extraction directory if it doesn't exist\n",
        "os.makedirs(extract_to_dir, exist_ok=True)\n",
        "\n",
        "# Open the zip file and extract its contents\n",
        "with zipfile.ZipFile(zip_file_path, 'r') as zip_ref:\n",
        "    zip_ref.extractall(extract_to_dir)\n",
        "\n",
        "# Print a message indicating the extraction directory\n",
        "print(f\"Files extracted to {extract_to_dir}\")"
      ],
      "metadata": {
        "colab": {
          "base_uri": "https://localhost:8080/"
        },
        "id": "oryvAYk-S3wb",
        "outputId": "a2d7768f-1819-4084-b23f-46b15927f89d"
      },
      "execution_count": null,
      "outputs": [
        {
          "output_type": "stream",
          "name": "stdout",
          "text": [
            "Files extracted to /content/29unzip\n"
          ]
        }
      ]
    },
    {
      "cell_type": "code",
      "source": [
        "!pip install tensorflow keras numpy matplotlib"
      ],
      "metadata": {
        "colab": {
          "base_uri": "https://localhost:8080/"
        },
        "id": "FB1JCyfFS6_7",
        "outputId": "94949e3c-6b41-46f7-f863-c5b01e77e88d"
      },
      "execution_count": null,
      "outputs": [
        {
          "output_type": "stream",
          "name": "stdout",
          "text": [
            "Requirement already satisfied: tensorflow in /usr/local/lib/python3.11/dist-packages (2.18.0)\n",
            "Requirement already satisfied: keras in /usr/local/lib/python3.11/dist-packages (3.8.0)\n",
            "Requirement already satisfied: numpy in /usr/local/lib/python3.11/dist-packages (2.0.2)\n",
            "Requirement already satisfied: matplotlib in /usr/local/lib/python3.11/dist-packages (3.10.0)\n",
            "Requirement already satisfied: absl-py>=1.0.0 in /usr/local/lib/python3.11/dist-packages (from tensorflow) (1.4.0)\n",
            "Requirement already satisfied: astunparse>=1.6.0 in /usr/local/lib/python3.11/dist-packages (from tensorflow) (1.6.3)\n",
            "Requirement already satisfied: flatbuffers>=24.3.25 in /usr/local/lib/python3.11/dist-packages (from tensorflow) (25.2.10)\n",
            "Requirement already satisfied: gast!=0.5.0,!=0.5.1,!=0.5.2,>=0.2.1 in /usr/local/lib/python3.11/dist-packages (from tensorflow) (0.6.0)\n",
            "Requirement already satisfied: google-pasta>=0.1.1 in /usr/local/lib/python3.11/dist-packages (from tensorflow) (0.2.0)\n",
            "Requirement already satisfied: libclang>=13.0.0 in /usr/local/lib/python3.11/dist-packages (from tensorflow) (18.1.1)\n",
            "Requirement already satisfied: opt-einsum>=2.3.2 in /usr/local/lib/python3.11/dist-packages (from tensorflow) (3.4.0)\n",
            "Requirement already satisfied: packaging in /usr/local/lib/python3.11/dist-packages (from tensorflow) (24.2)\n",
            "Requirement already satisfied: protobuf!=4.21.0,!=4.21.1,!=4.21.2,!=4.21.3,!=4.21.4,!=4.21.5,<6.0.0dev,>=3.20.3 in /usr/local/lib/python3.11/dist-packages (from tensorflow) (5.29.4)\n",
            "Requirement already satisfied: requests<3,>=2.21.0 in /usr/local/lib/python3.11/dist-packages (from tensorflow) (2.32.3)\n",
            "Requirement already satisfied: setuptools in /usr/local/lib/python3.11/dist-packages (from tensorflow) (75.2.0)\n",
            "Requirement already satisfied: six>=1.12.0 in /usr/local/lib/python3.11/dist-packages (from tensorflow) (1.17.0)\n",
            "Requirement already satisfied: termcolor>=1.1.0 in /usr/local/lib/python3.11/dist-packages (from tensorflow) (3.1.0)\n",
            "Requirement already satisfied: typing-extensions>=3.6.6 in /usr/local/lib/python3.11/dist-packages (from tensorflow) (4.13.2)\n",
            "Requirement already satisfied: wrapt>=1.11.0 in /usr/local/lib/python3.11/dist-packages (from tensorflow) (1.17.2)\n",
            "Requirement already satisfied: grpcio<2.0,>=1.24.3 in /usr/local/lib/python3.11/dist-packages (from tensorflow) (1.71.0)\n",
            "Requirement already satisfied: tensorboard<2.19,>=2.18 in /usr/local/lib/python3.11/dist-packages (from tensorflow) (2.18.0)\n",
            "Requirement already satisfied: h5py>=3.11.0 in /usr/local/lib/python3.11/dist-packages (from tensorflow) (3.13.0)\n",
            "Requirement already satisfied: ml-dtypes<0.5.0,>=0.4.0 in /usr/local/lib/python3.11/dist-packages (from tensorflow) (0.4.1)\n",
            "Requirement already satisfied: tensorflow-io-gcs-filesystem>=0.23.1 in /usr/local/lib/python3.11/dist-packages (from tensorflow) (0.37.1)\n",
            "Requirement already satisfied: rich in /usr/local/lib/python3.11/dist-packages (from keras) (13.9.4)\n",
            "Requirement already satisfied: namex in /usr/local/lib/python3.11/dist-packages (from keras) (0.0.9)\n",
            "Requirement already satisfied: optree in /usr/local/lib/python3.11/dist-packages (from keras) (0.15.0)\n",
            "Requirement already satisfied: contourpy>=1.0.1 in /usr/local/lib/python3.11/dist-packages (from matplotlib) (1.3.2)\n",
            "Requirement already satisfied: cycler>=0.10 in /usr/local/lib/python3.11/dist-packages (from matplotlib) (0.12.1)\n",
            "Requirement already satisfied: fonttools>=4.22.0 in /usr/local/lib/python3.11/dist-packages (from matplotlib) (4.58.0)\n",
            "Requirement already satisfied: kiwisolver>=1.3.1 in /usr/local/lib/python3.11/dist-packages (from matplotlib) (1.4.8)\n",
            "Requirement already satisfied: pillow>=8 in /usr/local/lib/python3.11/dist-packages (from matplotlib) (11.2.1)\n",
            "Requirement already satisfied: pyparsing>=2.3.1 in /usr/local/lib/python3.11/dist-packages (from matplotlib) (3.2.3)\n",
            "Requirement already satisfied: python-dateutil>=2.7 in /usr/local/lib/python3.11/dist-packages (from matplotlib) (2.9.0.post0)\n",
            "Requirement already satisfied: wheel<1.0,>=0.23.0 in /usr/local/lib/python3.11/dist-packages (from astunparse>=1.6.0->tensorflow) (0.45.1)\n",
            "Requirement already satisfied: charset-normalizer<4,>=2 in /usr/local/lib/python3.11/dist-packages (from requests<3,>=2.21.0->tensorflow) (3.4.2)\n",
            "Requirement already satisfied: idna<4,>=2.5 in /usr/local/lib/python3.11/dist-packages (from requests<3,>=2.21.0->tensorflow) (3.10)\n",
            "Requirement already satisfied: urllib3<3,>=1.21.1 in /usr/local/lib/python3.11/dist-packages (from requests<3,>=2.21.0->tensorflow) (2.4.0)\n",
            "Requirement already satisfied: certifi>=2017.4.17 in /usr/local/lib/python3.11/dist-packages (from requests<3,>=2.21.0->tensorflow) (2025.4.26)\n",
            "Requirement already satisfied: markdown>=2.6.8 in /usr/local/lib/python3.11/dist-packages (from tensorboard<2.19,>=2.18->tensorflow) (3.8)\n",
            "Requirement already satisfied: tensorboard-data-server<0.8.0,>=0.7.0 in /usr/local/lib/python3.11/dist-packages (from tensorboard<2.19,>=2.18->tensorflow) (0.7.2)\n",
            "Requirement already satisfied: werkzeug>=1.0.1 in /usr/local/lib/python3.11/dist-packages (from tensorboard<2.19,>=2.18->tensorflow) (3.1.3)\n",
            "Requirement already satisfied: markdown-it-py>=2.2.0 in /usr/local/lib/python3.11/dist-packages (from rich->keras) (3.0.0)\n",
            "Requirement already satisfied: pygments<3.0.0,>=2.13.0 in /usr/local/lib/python3.11/dist-packages (from rich->keras) (2.19.1)\n",
            "Requirement already satisfied: mdurl~=0.1 in /usr/local/lib/python3.11/dist-packages (from markdown-it-py>=2.2.0->rich->keras) (0.1.2)\n",
            "Requirement already satisfied: MarkupSafe>=2.1.1 in /usr/local/lib/python3.11/dist-packages (from werkzeug>=1.0.1->tensorboard<2.19,>=2.18->tensorflow) (3.0.2)\n"
          ]
        }
      ]
    },
    {
      "cell_type": "code",
      "source": [
        "import os\n",
        "from tensorflow.keras.preprocessing.image import ImageDataGenerator, img_to_array, load_img, array_to_img"
      ],
      "metadata": {
        "id": "QI7eKt-xS9vc"
      },
      "execution_count": null,
      "outputs": []
    },
    {
      "cell_type": "code",
      "source": [
        "datagen = ImageDataGenerator(\n",
        "    rotation_range=30,\n",
        "    width_shift_range=0.2,\n",
        "    height_shift_range=0.2,\n",
        "    shear_range=0.15,\n",
        "    zoom_range=0.2,\n",
        "    horizontal_flip=True,\n",
        "    fill_mode='nearest'\n",
        ")"
      ],
      "metadata": {
        "id": "Fi9kBdfWS-aC"
      },
      "execution_count": null,
      "outputs": []
    },
    {
      "cell_type": "code",
      "source": [
        "input_folder = '/content/29unzip/The IQ-OTHNCCD lung cancer dataset/Bengin cases'\n",
        "output_folder = '/content/29unzip/The IQ-OTHNCCD lung cancer dataset/Bengin cases'\n",
        "os.makedirs(output_folder, exist_ok=True)\n",
        "\n",
        "target_total = 465\n",
        "current_count = len(os.listdir(input_folder))\n",
        "images_needed = target_total - current_count\n",
        "\n",
        "image_files = os.listdir(input_folder)\n",
        "generated = 0\n",
        "\n",
        "while generated < images_needed:\n",
        "    for img_file in image_files:\n",
        "        img_path = os.path.join(input_folder, img_file)\n",
        "        img = load_img(img_path)\n",
        "        x = img_to_array(img)\n",
        "        x = x.reshape((1,) + x.shape)\n",
        "\n",
        "        # Generate one augmented image per iteration\n",
        "        for batch in datagen.flow(x, batch_size=1, save_to_dir=output_folder,\n",
        "                                  save_prefix='aug', save_format='jpeg'):\n",
        "            generated += 1\n",
        "            if generated >= images_needed:\n",
        "                break\n",
        "    if generated >= images_needed:\n",
        "        break\n",
        "\n",
        "print(f\"Generated {generated} augmented images.\")"
      ],
      "metadata": {
        "colab": {
          "base_uri": "https://localhost:8080/"
        },
        "id": "qiGtb7ddTBBr",
        "outputId": "2840c6d6-6cfb-4e99-84f4-3fa3f34802ad"
      },
      "execution_count": null,
      "outputs": [
        {
          "output_type": "stream",
          "name": "stdout",
          "text": [
            "Generated 464 augmented images.\n"
          ]
        }
      ]
    },
    {
      "cell_type": "code",
      "source": [
        "#count number of images and classes Benign=0 maligant=1\n",
        "ROOT_DIR=\"/content/29unzip/The IQ-OTHNCCD lung cancer dataset\"\n",
        "number_of_images={}\n",
        "for dir in os.listdir(ROOT_DIR):\n",
        "       number_of_images[dir]=len(os.listdir(os.path.join(ROOT_DIR,dir)))\n",
        "       number_of_images.items()"
      ],
      "metadata": {
        "id": "OXjeOKjrTEe7"
      },
      "execution_count": null,
      "outputs": []
    },
    {
      "cell_type": "code",
      "source": [
        "number_of_images.items()"
      ],
      "metadata": {
        "colab": {
          "base_uri": "https://localhost:8080/"
        },
        "id": "8OkavhDfTHNT",
        "outputId": "26fadfc9-d837-4164-84a3-62268b6d75d6"
      },
      "execution_count": null,
      "outputs": [
        {
          "output_type": "execute_result",
          "data": {
            "text/plain": [
              "dict_items([('Bengin cases', 574), ('Malignant cases', 561)])"
            ]
          },
          "metadata": {},
          "execution_count": 8
        }
      ]
    },
    {
      "cell_type": "code",
      "source": [
        "import os\n",
        "import shutil\n",
        "import random\n",
        "import math\n",
        "\n",
        "ROOT_DIR = '/content/29unzip/The IQ-OTHNCCD lung cancer dataset'  # replace with your dataset root\n",
        "random.seed(42)  # for reproducibility\n",
        "\n",
        "# Count the number of images in each class\n",
        "number_of_images = {}\n",
        "for dir_name in os.listdir(ROOT_DIR):\n",
        "    dir_path = os.path.join(ROOT_DIR, dir_name)\n",
        "    if os.path.isdir(dir_path):\n",
        "        number_of_images[dir_name] = len(os.listdir(dir_path))\n",
        "\n",
        "# Create train, validation, and test folders if not exist\n",
        "for split in ['train111x', 'validation111x', 'test111x']:\n",
        "    if not os.path.exists(split):\n",
        "        os.mkdir(split)\n",
        "        for class_name in os.listdir(ROOT_DIR):\n",
        "            class_path = os.path.join(ROOT_DIR, class_name)\n",
        "            if os.path.isdir(class_path):\n",
        "                os.makedirs(os.path.join(split, class_name), exist_ok=True)\n",
        "\n",
        "# Split the dataset\n",
        "for class_name in os.listdir(ROOT_DIR):\n",
        "    class_path = os.path.join(ROOT_DIR, class_name)\n",
        "    if not os.path.isdir(class_path):\n",
        "        continue\n",
        "\n",
        "    all_images = os.listdir(class_path)\n",
        "    random.shuffle(all_images)  # shuffle once\n",
        "\n",
        "    total_images = len(all_images)\n",
        "    train_size = int(0.8 * total_images)\n",
        "    val_size = int(0.1 * total_images)\n",
        "    test_size = total_images - train_size - val_size  # remainder to test\n",
        "\n",
        "    train_images = all_images[:train_size]\n",
        "    val_images = all_images[train_size:train_size + val_size]\n",
        "    test_images = all_images[train_size + val_size:]\n",
        "\n",
        "    # Move or copy files\n",
        "    for img in train_images:\n",
        "        shutil.copy(os.path.join(class_path, img), os.path.join('train111x', class_name, img))\n",
        "\n",
        "    for img in val_images:\n",
        "        shutil.copy(os.path.join(class_path, img), os.path.join('validation111x', class_name, img))\n",
        "\n",
        "    for img in test_images:\n",
        "        shutil.copy(os.path.join(class_path, img), os.path.join('test111x', class_name, img))\n",
        "\n",
        "print(\"Dataset splitting completed successfully.\")"
      ],
      "metadata": {
        "colab": {
          "base_uri": "https://localhost:8080/"
        },
        "id": "G-em6BxcTNGz",
        "outputId": "53e5ddf4-a41a-49b6-aff8-fb08be11c5e1"
      },
      "execution_count": null,
      "outputs": [
        {
          "output_type": "stream",
          "name": "stdout",
          "text": [
            "Dataset splitting completed successfully.\n"
          ]
        }
      ]
    },
    {
      "cell_type": "code",
      "source": [
        "# Count the number of images in the validation folder\n",
        "number_of_images_val = {}\n",
        "for dir in os.listdir(\"./validation111x\"):\n",
        "    number_of_images_val[dir] = len(os.listdir(os.path.join(\"./validation111x\", dir)))\n",
        "\n",
        "number_of_images_val"
      ],
      "metadata": {
        "colab": {
          "base_uri": "https://localhost:8080/"
        },
        "id": "_VB6DYzeTkHq",
        "outputId": "f2d35675-1833-4e29-f6db-dc5abab9c996"
      },
      "execution_count": null,
      "outputs": [
        {
          "output_type": "execute_result",
          "data": {
            "text/plain": [
              "{'Bengin cases': 57, 'Malignant cases': 56}"
            ]
          },
          "metadata": {},
          "execution_count": 10
        }
      ]
    },
    {
      "cell_type": "code",
      "source": [
        "# Count the number of images in the training folder\n",
        "number_of_images_train = {}\n",
        "for dir in os.listdir(\"./train111x\"):\n",
        "    number_of_images_train[dir] = len(os.listdir(os.path.join(\"./train111x\", dir)))\n",
        "\n",
        "number_of_images_train"
      ],
      "metadata": {
        "colab": {
          "base_uri": "https://localhost:8080/"
        },
        "id": "vB-Yu37uTpqi",
        "outputId": "297c87f9-1334-4ebe-812d-9e323685b8c1"
      },
      "execution_count": null,
      "outputs": [
        {
          "output_type": "execute_result",
          "data": {
            "text/plain": [
              "{'Bengin cases': 459, 'Malignant cases': 448}"
            ]
          },
          "metadata": {},
          "execution_count": 11
        }
      ]
    },
    {
      "cell_type": "code",
      "source": [
        "# Count the number of images in the test folder\n",
        "number_of_images_test = {}\n",
        "for dir in os.listdir(\"./test111x\"):\n",
        "    number_of_images_test[dir] = len(os.listdir(os.path.join(\"./test111x\", dir)))\n",
        "\n",
        "number_of_images_test"
      ],
      "metadata": {
        "colab": {
          "base_uri": "https://localhost:8080/"
        },
        "id": "_pAog65OTqoa",
        "outputId": "e1da81cc-6609-4534-9d64-bf1cbaa4ec4a"
      },
      "execution_count": null,
      "outputs": [
        {
          "output_type": "execute_result",
          "data": {
            "text/plain": [
              "{'Bengin cases': 58, 'Malignant cases': 57}"
            ]
          },
          "metadata": {},
          "execution_count": 12
        }
      ]
    },
    {
      "cell_type": "code",
      "source": [],
      "metadata": {
        "id": "53zW6NKITtoS"
      },
      "execution_count": null,
      "outputs": []
    },
    {
      "cell_type": "code",
      "source": [
        "import tensorflow as tf\n",
        "from tensorflow.keras import layers\n",
        "import tensorflow as tf\n",
        "from tensorflow.keras.preprocessing.image import ImageDataGenerator\n",
        "from tensorflow.keras import layers\n",
        "import matplotlib.pyplot as plt\n",
        "import numpy as nps\n",
        "\n",
        "# --- PI Layer ---\n",
        "class PILayer(tf.keras.layers.Layer):\n",
        "    def __init__(self, target_intensity=0.5, max_iter=1):\n",
        "        super(PILayer, self).__init__()\n",
        "        self.target_intensity = target_intensity\n",
        "        self.max_iter = max_iter\n",
        "\n",
        "    def build(self, input_shape):\n",
        "        self.Kp = self.add_weight(name='Kp',\n",
        "                                  shape=(),\n",
        "                                  initializer=tf.constant_initializer(0.5),\n",
        "                                  trainable=True)\n",
        "        self.Ki = self.add_weight(name='Ki',\n",
        "                                  shape=(),\n",
        "                                  initializer=tf.constant_initializer(0.1),\n",
        "                                  trainable=True)\n",
        "\n",
        "    def call(self, inputs):\n",
        "        x = tf.identity(inputs)\n",
        "        integral_error = tf.constant(0.0, dtype=inputs.dtype)\n",
        "\n",
        "        for _ in range(self.max_iter):\n",
        "            current_mean = tf.reduce_mean(x)\n",
        "            error = self.target_intensity - current_mean\n",
        "            integral_error += error\n",
        "            adjustment = self.Kp * error + self.Ki * integral_error\n",
        "            x = x + adjustment\n",
        "            x = tf.clip_by_value(x, 0.0, 1.0)\n",
        "\n",
        "        return x\n",
        "\n",
        "# --- CNN Model with PI Layer after all 3 conv blocks ---\n",
        "class CNNWithPIConvOutput(tf.keras.Model):\n",
        "    def __init__(self):\n",
        "        super(CNNWithPIConvOutput, self).__init__()\n",
        "        self.conv1 = layers.Conv2D(32, 3, padding='same', activation='relu')\n",
        "        self.bn1 = layers.BatchNormalization()\n",
        "        self.pool1 = layers.MaxPooling2D(2)\n",
        "\n",
        "        self.conv2 = layers.Conv2D(64, 3, padding='same', activation='relu')\n",
        "        self.bn2 = layers.BatchNormalization()\n",
        "        self.pool2 = layers.MaxPooling2D(2)\n",
        "\n",
        "        self.conv3 = layers.Conv2D(128, 3, padding='same', activation='relu')\n",
        "        self.bn3 = layers.BatchNormalization()\n",
        "        self.pool3 = layers.MaxPooling2D(2)\n",
        "\n",
        "        self.pi = PILayer()  # PI after 3 conv blocks\n",
        "\n",
        "        self.out_conv = layers.Conv2D(1, kernel_size=1, activation='sigmoid')\n",
        "        self.global_avg_pool = layers.GlobalAveragePooling2D()\n",
        "\n",
        "    def call(self, inputs, training=False, return_features=False):\n",
        "        x = self.conv1(inputs)\n",
        "        x = self.bn1(x, training=training)\n",
        "        x = self.pool1(x)\n",
        "\n",
        "        x = self.conv2(x)\n",
        "        x = self.bn2(x, training=training)\n",
        "        x = self.pool2(x)\n",
        "\n",
        "        x = self.conv3(x)\n",
        "        x = self.bn3(x, training=training)\n",
        "        x = self.pool3(x)\n",
        "\n",
        "        feat_before = x\n",
        "        x = self.pi(x)\n",
        "        feat_after = x\n",
        "\n",
        "        x = self.out_conv(x)\n",
        "        x = self.global_avg_pool(x)\n",
        "\n",
        "        if return_features:\n",
        "            return x, feat_before, feat_after\n",
        "        return x\n",
        "\n",
        "# --- Data paths and preprocessing ---\n",
        "train_dir = '/content/train111x'\n",
        "val_dir = '/content/validation111x'\n",
        "IMG_WIDTH, IMG_HEIGHT = 224, 224\n",
        "BATCH_SIZE = 32\n",
        "\n",
        "train_datagen = ImageDataGenerator(\n",
        "    rescale=1./255,\n",
        "    rotation_range=20,\n",
        "    width_shift_range=0.2,\n",
        "    height_shift_range=0.2,\n",
        "    shear_range=0.2,\n",
        "    zoom_range=0.2,\n",
        "    horizontal_flip=True,\n",
        "    fill_mode='nearest'\n",
        ")\n",
        "\n",
        "val_datagen = ImageDataGenerator(rescale=1./255)\n",
        "\n",
        "train_data = train_datagen.flow_from_directory(\n",
        "    train_dir,\n",
        "    target_size=(IMG_WIDTH, IMG_HEIGHT),\n",
        "    batch_size=BATCH_SIZE,\n",
        "    class_mode='binary'\n",
        ")\n",
        "\n",
        "val_data = val_datagen.flow_from_directory(\n",
        "    val_dir,\n",
        "    target_size=(IMG_WIDTH, IMG_HEIGHT),\n",
        "    batch_size=BATCH_SIZE,\n",
        "    class_mode='binary'\n",
        ")\n",
        "\n",
        "# --- Model Training ---\n",
        "model = CNNWithPIConvOutput() # Corrected typo here\n",
        "\n",
        "optimizer = tf.keras.optimizers.Adam(learning_rate=1e-4)\n",
        "lr_scheduler = tf.keras.callbacks.ReduceLROnPlateau(\n",
        "    monitor='val_loss', factor=0.5, patience=5, min_lr=1e-6, verbose=1\n",
        ")\n",
        "\n",
        "model.compile(optimizer=optimizer, loss='binary_crossentropy', metrics=['accuracy'])\n",
        "\n",
        "history = model.fit(\n",
        "    train_data,\n",
        "    epochs=50,\n",
        "    validation_data=val_data,\n",
        "    callbacks=[lr_scheduler]\n",
        ")\n",
        "\n",
        "# --- Plot Training Curves ---\n",
        "acc = history.history['accuracy']\n",
        "val_acc = history.history['val_accuracy']\n",
        "loss = history.history['loss']\n",
        "val_loss = history.history['val_loss']\n",
        "\n",
        "epochs_range = range(len(acc))\n",
        "plt.figure(figsize=(12, 6))\n",
        "\n",
        "plt.subplot(1, 2, 1)\n",
        "plt.plot(epochs_range, acc, label='Training Accuracy')\n",
        "plt.plot(epochs_range, val_acc, label='Validation Accuracy')\n",
        "plt.xlabel('Epochs')\n",
        "plt.ylabel('Accuracy')\n",
        "plt.legend(loc='lower right')\n",
        "plt.title('Training and Validation Accuracy')\n",
        "plt.grid(True)\n",
        "\n",
        "plt.subplot(1, 2, 2)\n",
        "plt.plot(epochs_range, loss, label='Training Loss')\n",
        "plt.plot(epochs_range, val_loss, label='Validation Loss')\n",
        "plt.xlabel('Epochs')\n",
        "plt.ylabel('Loss')\n",
        "plt.legend(loc='upper right')\n",
        "plt.title('Training and Validation Loss')\n",
        "plt.grid(True)\n",
        "\n",
        "plt.tight_layout()\n",
        "plt.show()"
      ],
      "metadata": {
        "colab": {
          "base_uri": "https://localhost:8080/",
          "height": 1000
        },
        "id": "w7Wn_YnMSkuU",
        "outputId": "5605cfbb-e227-451f-af4f-c0394e2088d2"
      },
      "execution_count": null,
      "outputs": [
        {
          "output_type": "stream",
          "name": "stdout",
          "text": [
            "Found 907 images belonging to 2 classes.\n",
            "Found 113 images belonging to 2 classes.\n"
          ]
        },
        {
          "output_type": "stream",
          "name": "stderr",
          "text": [
            "/usr/local/lib/python3.11/dist-packages/keras/src/trainers/data_adapters/py_dataset_adapter.py:121: UserWarning: Your `PyDataset` class should call `super().__init__(**kwargs)` in its constructor. `**kwargs` can include `workers`, `use_multiprocessing`, `max_queue_size`. Do not pass these arguments to `fit()`, as they will be ignored.\n",
            "  self._warn_if_super_not_called()\n"
          ]
        },
        {
          "output_type": "stream",
          "name": "stdout",
          "text": [
            "Epoch 1/50\n",
            "\u001b[1m29/29\u001b[0m \u001b[32m━━━━━━━━━━━━━━━━━━━━\u001b[0m\u001b[37m\u001b[0m \u001b[1m28s\u001b[0m 599ms/step - accuracy: 0.8660 - loss: 0.5142 - val_accuracy: 0.4956 - val_loss: 0.7188 - learning_rate: 1.0000e-04\n",
            "Epoch 2/50\n",
            "\u001b[1m29/29\u001b[0m \u001b[32m━━━━━━━━━━━━━━━━━━━━\u001b[0m\u001b[37m\u001b[0m \u001b[1m30s\u001b[0m 431ms/step - accuracy: 0.9004 - loss: 0.3608 - val_accuracy: 0.4956 - val_loss: 0.9105 - learning_rate: 1.0000e-04\n",
            "Epoch 3/50\n",
            "\u001b[1m29/29\u001b[0m \u001b[32m━━━━━━━━━━━━━━━━━━━━\u001b[0m\u001b[37m\u001b[0m \u001b[1m13s\u001b[0m 430ms/step - accuracy: 0.8980 - loss: 0.3269 - val_accuracy: 0.4956 - val_loss: 1.2964 - learning_rate: 1.0000e-04\n",
            "Epoch 4/50\n",
            "\u001b[1m29/29\u001b[0m \u001b[32m━━━━━━━━━━━━━━━━━━━━\u001b[0m\u001b[37m\u001b[0m \u001b[1m13s\u001b[0m 432ms/step - accuracy: 0.9006 - loss: 0.2973 - val_accuracy: 0.4956 - val_loss: 1.6619 - learning_rate: 1.0000e-04\n",
            "Epoch 5/50\n",
            "\u001b[1m29/29\u001b[0m \u001b[32m━━━━━━━━━━━━━━━━━━━━\u001b[0m\u001b[37m\u001b[0m \u001b[1m13s\u001b[0m 433ms/step - accuracy: 0.9002 - loss: 0.2834 - val_accuracy: 0.4956 - val_loss: 1.8376 - learning_rate: 1.0000e-04\n",
            "Epoch 6/50\n",
            "\u001b[1m29/29\u001b[0m \u001b[32m━━━━━━━━━━━━━━━━━━━━\u001b[0m\u001b[37m\u001b[0m \u001b[1m0s\u001b[0m 423ms/step - accuracy: 0.8899 - loss: 0.2866\n",
            "Epoch 6: ReduceLROnPlateau reducing learning rate to 4.999999873689376e-05.\n",
            "\u001b[1m29/29\u001b[0m \u001b[32m━━━━━━━━━━━━━━━━━━━━\u001b[0m\u001b[37m\u001b[0m \u001b[1m13s\u001b[0m 435ms/step - accuracy: 0.8902 - loss: 0.2859 - val_accuracy: 0.4956 - val_loss: 1.8069 - learning_rate: 1.0000e-04\n",
            "Epoch 7/50\n",
            "\u001b[1m29/29\u001b[0m \u001b[32m━━━━━━━━━━━━━━━━━━━━\u001b[0m\u001b[37m\u001b[0m \u001b[1m13s\u001b[0m 433ms/step - accuracy: 0.8973 - loss: 0.2558 - val_accuracy: 0.4956 - val_loss: 1.6969 - learning_rate: 5.0000e-05\n",
            "Epoch 8/50\n",
            "\u001b[1m29/29\u001b[0m \u001b[32m━━━━━━━━━━━━━━━━━━━━\u001b[0m\u001b[37m\u001b[0m \u001b[1m14s\u001b[0m 469ms/step - accuracy: 0.9019 - loss: 0.2461 - val_accuracy: 0.4956 - val_loss: 1.4290 - learning_rate: 5.0000e-05\n",
            "Epoch 9/50\n",
            "\u001b[1m29/29\u001b[0m \u001b[32m━━━━━━━━━━━━━━━━━━━━\u001b[0m\u001b[37m\u001b[0m \u001b[1m13s\u001b[0m 445ms/step - accuracy: 0.8998 - loss: 0.2398 - val_accuracy: 0.4956 - val_loss: 1.1431 - learning_rate: 5.0000e-05\n",
            "Epoch 10/50\n",
            "\u001b[1m29/29\u001b[0m \u001b[32m━━━━━━━━━━━━━━━━━━━━\u001b[0m\u001b[37m\u001b[0m \u001b[1m13s\u001b[0m 439ms/step - accuracy: 0.8948 - loss: 0.2334 - val_accuracy: 0.4956 - val_loss: 0.9262 - learning_rate: 5.0000e-05\n",
            "Epoch 11/50\n",
            "\u001b[1m29/29\u001b[0m \u001b[32m━━━━━━━━━━━━━━━━━━━━\u001b[0m\u001b[37m\u001b[0m \u001b[1m0s\u001b[0m 417ms/step - accuracy: 0.9071 - loss: 0.2373\n",
            "Epoch 11: ReduceLROnPlateau reducing learning rate to 2.499999936844688e-05.\n",
            "\u001b[1m29/29\u001b[0m \u001b[32m━━━━━━━━━━━━━━━━━━━━\u001b[0m\u001b[37m\u001b[0m \u001b[1m13s\u001b[0m 440ms/step - accuracy: 0.9070 - loss: 0.2372 - val_accuracy: 0.5664 - val_loss: 0.7884 - learning_rate: 5.0000e-05\n",
            "Epoch 12/50\n",
            "\u001b[1m29/29\u001b[0m \u001b[32m━━━━━━━━━━━━━━━━━━━━\u001b[0m\u001b[37m\u001b[0m \u001b[1m13s\u001b[0m 437ms/step - accuracy: 0.8916 - loss: 0.2353 - val_accuracy: 0.6903 - val_loss: 0.6861 - learning_rate: 2.5000e-05\n",
            "Epoch 13/50\n",
            "\u001b[1m29/29\u001b[0m \u001b[32m━━━━━━━━━━━━━━━━━━━━\u001b[0m\u001b[37m\u001b[0m \u001b[1m12s\u001b[0m 425ms/step - accuracy: 0.9010 - loss: 0.2246 - val_accuracy: 0.7965 - val_loss: 0.6032 - learning_rate: 2.5000e-05\n",
            "Epoch 14/50\n",
            "\u001b[1m29/29\u001b[0m \u001b[32m━━━━━━━━━━━━━━━━━━━━\u001b[0m\u001b[37m\u001b[0m \u001b[1m13s\u001b[0m 426ms/step - accuracy: 0.9023 - loss: 0.2190 - val_accuracy: 0.8407 - val_loss: 0.5270 - learning_rate: 2.5000e-05\n",
            "Epoch 15/50\n",
            "\u001b[1m29/29\u001b[0m \u001b[32m━━━━━━━━━━━━━━━━━━━━\u001b[0m\u001b[37m\u001b[0m \u001b[1m20s\u001b[0m 437ms/step - accuracy: 0.8965 - loss: 0.2217 - val_accuracy: 0.8938 - val_loss: 0.4609 - learning_rate: 2.5000e-05\n",
            "Epoch 16/50\n",
            "\u001b[1m29/29\u001b[0m \u001b[32m━━━━━━━━━━━━━━━━━━━━\u001b[0m\u001b[37m\u001b[0m \u001b[1m13s\u001b[0m 433ms/step - accuracy: 0.9134 - loss: 0.2007 - val_accuracy: 0.9027 - val_loss: 0.4107 - learning_rate: 2.5000e-05\n",
            "Epoch 17/50\n",
            "\u001b[1m29/29\u001b[0m \u001b[32m━━━━━━━━━━━━━━━━━━━━\u001b[0m\u001b[37m\u001b[0m \u001b[1m13s\u001b[0m 433ms/step - accuracy: 0.9144 - loss: 0.2234 - val_accuracy: 0.9027 - val_loss: 0.3788 - learning_rate: 2.5000e-05\n",
            "Epoch 18/50\n",
            "\u001b[1m29/29\u001b[0m \u001b[32m━━━━━━━━━━━━━━━━━━━━\u001b[0m\u001b[37m\u001b[0m \u001b[1m12s\u001b[0m 429ms/step - accuracy: 0.9023 - loss: 0.2142 - val_accuracy: 0.9115 - val_loss: 0.3495 - learning_rate: 2.5000e-05\n",
            "Epoch 19/50\n",
            "\u001b[1m29/29\u001b[0m \u001b[32m━━━━━━━━━━━━━━━━━━━━\u001b[0m\u001b[37m\u001b[0m \u001b[1m12s\u001b[0m 430ms/step - accuracy: 0.9294 - loss: 0.2115 - val_accuracy: 0.9115 - val_loss: 0.3400 - learning_rate: 2.5000e-05\n",
            "Epoch 20/50\n",
            "\u001b[1m29/29\u001b[0m \u001b[32m━━━━━━━━━━━━━━━━━━━━\u001b[0m\u001b[37m\u001b[0m \u001b[1m12s\u001b[0m 430ms/step - accuracy: 0.9125 - loss: 0.2129 - val_accuracy: 0.9115 - val_loss: 0.3074 - learning_rate: 2.5000e-05\n",
            "Epoch 21/50\n",
            "\u001b[1m29/29\u001b[0m \u001b[32m━━━━━━━━━━━━━━━━━━━━\u001b[0m\u001b[37m\u001b[0m \u001b[1m13s\u001b[0m 431ms/step - accuracy: 0.9243 - loss: 0.1941 - val_accuracy: 0.9646 - val_loss: 0.2955 - learning_rate: 2.5000e-05\n",
            "Epoch 22/50\n",
            "\u001b[1m29/29\u001b[0m \u001b[32m━━━━━━━━━━━━━━━━━━━━\u001b[0m\u001b[37m\u001b[0m \u001b[1m13s\u001b[0m 433ms/step - accuracy: 0.9222 - loss: 0.1993 - val_accuracy: 0.9823 - val_loss: 0.2288 - learning_rate: 2.5000e-05\n",
            "Epoch 23/50\n",
            "\u001b[1m29/29\u001b[0m \u001b[32m━━━━━━━━━━━━━━━━━━━━\u001b[0m\u001b[37m\u001b[0m \u001b[1m12s\u001b[0m 427ms/step - accuracy: 0.9348 - loss: 0.1816 - val_accuracy: 0.9735 - val_loss: 0.2645 - learning_rate: 2.5000e-05\n",
            "Epoch 24/50\n",
            "\u001b[1m29/29\u001b[0m \u001b[32m━━━━━━━━━━━━━━━━━━━━\u001b[0m\u001b[37m\u001b[0m \u001b[1m12s\u001b[0m 428ms/step - accuracy: 0.9296 - loss: 0.1952 - val_accuracy: 0.9646 - val_loss: 0.2652 - learning_rate: 2.5000e-05\n",
            "Epoch 25/50\n",
            "\u001b[1m29/29\u001b[0m \u001b[32m━━━━━━━━━━━━━━━━━━━━\u001b[0m\u001b[37m\u001b[0m \u001b[1m12s\u001b[0m 427ms/step - accuracy: 0.9477 - loss: 0.1884 - val_accuracy: 0.9381 - val_loss: 0.2669 - learning_rate: 2.5000e-05\n",
            "Epoch 26/50\n",
            "\u001b[1m29/29\u001b[0m \u001b[32m━━━━━━━━━━━━━━━━━━━━\u001b[0m\u001b[37m\u001b[0m \u001b[1m13s\u001b[0m 443ms/step - accuracy: 0.9229 - loss: 0.2100 - val_accuracy: 0.8673 - val_loss: 0.2701 - learning_rate: 2.5000e-05\n",
            "Epoch 27/50\n",
            "\u001b[1m29/29\u001b[0m \u001b[32m━━━━━━━━━━━━━━━━━━━━\u001b[0m\u001b[37m\u001b[0m \u001b[1m0s\u001b[0m 418ms/step - accuracy: 0.9313 - loss: 0.1868\n",
            "Epoch 27: ReduceLROnPlateau reducing learning rate to 1.249999968422344e-05.\n",
            "\u001b[1m29/29\u001b[0m \u001b[32m━━━━━━━━━━━━━━━━━━━━\u001b[0m\u001b[37m\u001b[0m \u001b[1m20s\u001b[0m 431ms/step - accuracy: 0.9312 - loss: 0.1871 - val_accuracy: 0.8319 - val_loss: 0.2918 - learning_rate: 2.5000e-05\n",
            "Epoch 28/50\n",
            "\u001b[1m29/29\u001b[0m \u001b[32m━━━━━━━━━━━━━━━━━━━━\u001b[0m\u001b[37m\u001b[0m \u001b[1m13s\u001b[0m 432ms/step - accuracy: 0.9341 - loss: 0.1863 - val_accuracy: 0.8584 - val_loss: 0.2643 - learning_rate: 1.2500e-05\n",
            "Epoch 29/50\n",
            "\u001b[1m29/29\u001b[0m \u001b[32m━━━━━━━━━━━━━━━━━━━━\u001b[0m\u001b[37m\u001b[0m \u001b[1m13s\u001b[0m 464ms/step - accuracy: 0.9160 - loss: 0.2009 - val_accuracy: 0.8319 - val_loss: 0.2921 - learning_rate: 1.2500e-05\n",
            "Epoch 30/50\n",
            "\u001b[1m29/29\u001b[0m \u001b[32m━━━━━━━━━━━━━━━━━━━━\u001b[0m\u001b[37m\u001b[0m \u001b[1m13s\u001b[0m 431ms/step - accuracy: 0.9441 - loss: 0.1822 - val_accuracy: 0.8319 - val_loss: 0.2962 - learning_rate: 1.2500e-05\n",
            "Epoch 31/50\n",
            "\u001b[1m29/29\u001b[0m \u001b[32m━━━━━━━━━━━━━━━━━━━━\u001b[0m\u001b[37m\u001b[0m \u001b[1m13s\u001b[0m 433ms/step - accuracy: 0.9434 - loss: 0.1902 - val_accuracy: 0.8319 - val_loss: 0.2927 - learning_rate: 1.2500e-05\n",
            "Epoch 32/50\n",
            "\u001b[1m29/29\u001b[0m \u001b[32m━━━━━━━━━━━━━━━━━━━━\u001b[0m\u001b[37m\u001b[0m \u001b[1m0s\u001b[0m 418ms/step - accuracy: 0.9467 - loss: 0.1786\n",
            "Epoch 32: ReduceLROnPlateau reducing learning rate to 6.24999984211172e-06.\n",
            "\u001b[1m29/29\u001b[0m \u001b[32m━━━━━━━━━━━━━━━━━━━━\u001b[0m\u001b[37m\u001b[0m \u001b[1m13s\u001b[0m 431ms/step - accuracy: 0.9468 - loss: 0.1786 - val_accuracy: 0.8230 - val_loss: 0.3349 - learning_rate: 1.2500e-05\n",
            "Epoch 33/50\n",
            "\u001b[1m29/29\u001b[0m \u001b[32m━━━━━━━━━━━━━━━━━━━━\u001b[0m\u001b[37m\u001b[0m \u001b[1m13s\u001b[0m 434ms/step - accuracy: 0.9154 - loss: 0.2019 - val_accuracy: 0.8319 - val_loss: 0.3089 - learning_rate: 6.2500e-06\n",
            "Epoch 34/50\n",
            "\u001b[1m29/29\u001b[0m \u001b[32m━━━━━━━━━━━━━━━━━━━━\u001b[0m\u001b[37m\u001b[0m \u001b[1m13s\u001b[0m 441ms/step - accuracy: 0.9508 - loss: 0.1871 - val_accuracy: 0.8230 - val_loss: 0.3276 - learning_rate: 6.2500e-06\n",
            "Epoch 35/50\n",
            "\u001b[1m29/29\u001b[0m \u001b[32m━━━━━━━━━━━━━━━━━━━━\u001b[0m\u001b[37m\u001b[0m \u001b[1m20s\u001b[0m 423ms/step - accuracy: 0.9448 - loss: 0.1725 - val_accuracy: 0.8230 - val_loss: 0.3362 - learning_rate: 6.2500e-06\n",
            "Epoch 36/50\n",
            "\u001b[1m29/29\u001b[0m \u001b[32m━━━━━━━━━━━━━━━━━━━━\u001b[0m\u001b[37m\u001b[0m \u001b[1m12s\u001b[0m 428ms/step - accuracy: 0.9128 - loss: 0.2124 - val_accuracy: 0.8319 - val_loss: 0.3258 - learning_rate: 6.2500e-06\n",
            "Epoch 37/50\n",
            "\u001b[1m29/29\u001b[0m \u001b[32m━━━━━━━━━━━━━━━━━━━━\u001b[0m\u001b[37m\u001b[0m \u001b[1m0s\u001b[0m 413ms/step - accuracy: 0.9521 - loss: 0.1845\n",
            "Epoch 37: ReduceLROnPlateau reducing learning rate to 3.12499992105586e-06.\n",
            "\u001b[1m29/29\u001b[0m \u001b[32m━━━━━━━━━━━━━━━━━━━━\u001b[0m\u001b[37m\u001b[0m \u001b[1m12s\u001b[0m 426ms/step - accuracy: 0.9520 - loss: 0.1845 - val_accuracy: 0.8319 - val_loss: 0.3226 - learning_rate: 6.2500e-06\n",
            "Epoch 38/50\n",
            "\u001b[1m29/29\u001b[0m \u001b[32m━━━━━━━━━━━━━━━━━━━━\u001b[0m\u001b[37m\u001b[0m \u001b[1m12s\u001b[0m 427ms/step - accuracy: 0.9499 - loss: 0.1801 - val_accuracy: 0.8319 - val_loss: 0.3275 - learning_rate: 3.1250e-06\n",
            "Epoch 39/50\n",
            "\u001b[1m29/29\u001b[0m \u001b[32m━━━━━━━━━━━━━━━━━━━━\u001b[0m\u001b[37m\u001b[0m \u001b[1m13s\u001b[0m 431ms/step - accuracy: 0.9372 - loss: 0.1973 - val_accuracy: 0.8319 - val_loss: 0.3253 - learning_rate: 3.1250e-06\n",
            "Epoch 40/50\n",
            "\u001b[1m29/29\u001b[0m \u001b[32m━━━━━━━━━━━━━━━━━━━━\u001b[0m\u001b[37m\u001b[0m \u001b[1m12s\u001b[0m 429ms/step - accuracy: 0.9457 - loss: 0.1756 - val_accuracy: 0.8230 - val_loss: 0.3415 - learning_rate: 3.1250e-06\n",
            "Epoch 41/50\n",
            "\u001b[1m29/29\u001b[0m \u001b[32m━━━━━━━━━━━━━━━━━━━━\u001b[0m\u001b[37m\u001b[0m \u001b[1m12s\u001b[0m 428ms/step - accuracy: 0.9399 - loss: 0.1756 - val_accuracy: 0.8142 - val_loss: 0.3419 - learning_rate: 3.1250e-06\n",
            "Epoch 42/50\n",
            "\u001b[1m29/29\u001b[0m \u001b[32m━━━━━━━━━━━━━━━━━━━━\u001b[0m\u001b[37m\u001b[0m \u001b[1m0s\u001b[0m 414ms/step - accuracy: 0.9292 - loss: 0.1975\n",
            "Epoch 42: ReduceLROnPlateau reducing learning rate to 1.56249996052793e-06.\n",
            "\u001b[1m29/29\u001b[0m \u001b[32m━━━━━━━━━━━━━━━━━━━━\u001b[0m\u001b[37m\u001b[0m \u001b[1m12s\u001b[0m 427ms/step - accuracy: 0.9293 - loss: 0.1971 - val_accuracy: 0.8230 - val_loss: 0.3385 - learning_rate: 3.1250e-06\n",
            "Epoch 43/50\n",
            "\u001b[1m29/29\u001b[0m \u001b[32m━━━━━━━━━━━━━━━━━━━━\u001b[0m\u001b[37m\u001b[0m \u001b[1m12s\u001b[0m 428ms/step - accuracy: 0.9476 - loss: 0.1970 - val_accuracy: 0.8319 - val_loss: 0.3284 - learning_rate: 1.5625e-06\n",
            "Epoch 44/50\n",
            "\u001b[1m29/29\u001b[0m \u001b[32m━━━━━━━━━━━━━━━━━━━━\u001b[0m\u001b[37m\u001b[0m \u001b[1m12s\u001b[0m 426ms/step - accuracy: 0.9350 - loss: 0.1814 - val_accuracy: 0.8319 - val_loss: 0.3338 - learning_rate: 1.5625e-06\n",
            "Epoch 45/50\n",
            "\u001b[1m29/29\u001b[0m \u001b[32m━━━━━━━━━━━━━━━━━━━━\u001b[0m\u001b[37m\u001b[0m \u001b[1m12s\u001b[0m 429ms/step - accuracy: 0.9600 - loss: 0.1667 - val_accuracy: 0.8319 - val_loss: 0.3248 - learning_rate: 1.5625e-06\n",
            "Epoch 46/50\n",
            "\u001b[1m29/29\u001b[0m \u001b[32m━━━━━━━━━━━━━━━━━━━━\u001b[0m\u001b[37m\u001b[0m \u001b[1m13s\u001b[0m 432ms/step - accuracy: 0.9608 - loss: 0.1644 - val_accuracy: 0.8319 - val_loss: 0.3309 - learning_rate: 1.5625e-06\n",
            "Epoch 47/50\n",
            "\u001b[1m29/29\u001b[0m \u001b[32m━━━━━━━━━━━━━━━━━━━━\u001b[0m\u001b[37m\u001b[0m \u001b[1m0s\u001b[0m 421ms/step - accuracy: 0.9410 - loss: 0.1813\n",
            "Epoch 47: ReduceLROnPlateau reducing learning rate to 1e-06.\n",
            "\u001b[1m29/29\u001b[0m \u001b[32m━━━━━━━━━━━━━━━━━━━━\u001b[0m\u001b[37m\u001b[0m \u001b[1m13s\u001b[0m 434ms/step - accuracy: 0.9410 - loss: 0.1812 - val_accuracy: 0.8230 - val_loss: 0.3388 - learning_rate: 1.5625e-06\n",
            "Epoch 48/50\n",
            "\u001b[1m29/29\u001b[0m \u001b[32m━━━━━━━━━━━━━━━━━━━━\u001b[0m\u001b[37m\u001b[0m \u001b[1m12s\u001b[0m 426ms/step - accuracy: 0.9438 - loss: 0.1893 - val_accuracy: 0.8230 - val_loss: 0.3350 - learning_rate: 1.0000e-06\n",
            "Epoch 49/50\n",
            "\u001b[1m29/29\u001b[0m \u001b[32m━━━━━━━━━━━━━━━━━━━━\u001b[0m\u001b[37m\u001b[0m \u001b[1m13s\u001b[0m 431ms/step - accuracy: 0.9402 - loss: 0.1748 - val_accuracy: 0.8319 - val_loss: 0.3286 - learning_rate: 1.0000e-06\n",
            "Epoch 50/50\n",
            "\u001b[1m29/29\u001b[0m \u001b[32m━━━━━━━━━━━━━━━━━━━━\u001b[0m\u001b[37m\u001b[0m \u001b[1m12s\u001b[0m 429ms/step - accuracy: 0.9516 - loss: 0.1755 - val_accuracy: 0.8319 - val_loss: 0.3332 - learning_rate: 1.0000e-06\n"
          ]
        },
        {
          "output_type": "display_data",
          "data": {
            "text/plain": [
              "<Figure size 1200x600 with 2 Axes>"
            ],
            "image/png": "[encoded data removed]"
          },
          "metadata": {}
        }
      ]
    },
    {
      "cell_type": "code",
      "source": [
        "import tensorflow as tf\n",
        "from tensorflow.keras import layers\n",
        "import tensorflow as tf\n",
        "from tensorflow.keras.preprocessing.image import ImageDataGenerator\n",
        "from tensorflow.keras import layers\n",
        "import matplotlib.pyplot as plt\n",
        "import numpy as np\n",
        "from sklearn.metrics import (\n",
        "    confusion_matrix, ConfusionMatrixDisplay,\n",
        "    accuracy_score, precision_score, recall_score, f1_score,\n",
        "    roc_auc_score, roc_curve\n",
        ")\n",
        "\n",
        "# --- PI Layer ---\n",
        "class PILayer(tf.keras.layers.Layer):\n",
        "    def __init__(self, target_intensity=0.5, max_iter=1):\n",
        "        super(PILayer, self).__init__()\n",
        "        self.target_intensity = target_intensity\n",
        "        self.max_iter = max_iter\n",
        "\n",
        "    def build(self, input_shape):\n",
        "        self.Kp = self.add_weight(name='Kp',\n",
        "                                  shape=(),\n",
        "                                  initializer=tf.constant_initializer(0.5),\n",
        "                                  trainable=True)\n",
        "        self.Ki = self.add_weight(name='Ki',\n",
        "                                  shape=(),\n",
        "                                  initializer=tf.constant_initializer(0.1),\n",
        "                                  trainable=True)\n",
        "\n",
        "    def call(self, inputs):\n",
        "        x = tf.identity(inputs)\n",
        "        integral_error = tf.constant(0.0, dtype=inputs.dtype)\n",
        "\n",
        "        for _ in range(self.max_iter):\n",
        "            current_mean = tf.reduce_mean(x)\n",
        "            error = self.target_intensity - current_mean\n",
        "            integral_error += error\n",
        "            adjustment = self.Kp * error + self.Ki * integral_error\n",
        "            x = x + adjustment\n",
        "            x = tf.clip_by_value(x, 0.0, 1.0)\n",
        "\n",
        "        return x\n",
        "\n",
        "# --- CNN Model with PI Layer after all 3 conv blocks ---\n",
        "class CNNWithPIConvOutput(tf.keras.Model):\n",
        "    def __init__(self):\n",
        "        super(CNNWithPIConvOutput, self).__init__()\n",
        "        self.conv1 = layers.Conv2D(32, 3, padding='same', activation='relu')\n",
        "        self.bn1 = layers.BatchNormalization()\n",
        "        self.pool1 = layers.MaxPooling2D(2)\n",
        "\n",
        "        self.conv2 = layers.Conv2D(64, 3, padding='same', activation='relu')\n",
        "        self.bn2 = layers.BatchNormalization()\n",
        "        self.pool2 = layers.MaxPooling2D(2)\n",
        "\n",
        "        self.conv3 = layers.Conv2D(128, 3, padding='same', activation='relu')\n",
        "        self.bn3 = layers.BatchNormalization()\n",
        "        self.pool3 = layers.MaxPooling2D(2)\n",
        "\n",
        "        self.pi = PILayer()  # PI after 3 conv blocks\n",
        "\n",
        "        self.out_conv = layers.Conv2D(1, kernel_size=1, activation='sigmoid')\n",
        "        self.global_avg_pool = layers.GlobalAveragePooling2D()\n",
        "\n",
        "    def call(self, inputs, training=False, return_features=False):\n",
        "        x = self.conv1(inputs)\n",
        "        x = self.bn1(x, training=training)\n",
        "        x = self.pool1(x)\n",
        "\n",
        "        x = self.conv2(x)\n",
        "        x = self.bn2(x, training=training)\n",
        "        x = self.pool2(x)\n",
        "\n",
        "        x = self.conv3(x)\n",
        "        x = self.bn3(x, training=training)\n",
        "        x = self.pool3(x)\n",
        "\n",
        "        feat_before = x\n",
        "        x = self.pi(x)\n",
        "        feat_after = x\n",
        "\n",
        "        x = self.out_conv(x)\n",
        "        x = self.global_avg_pool(x)\n",
        "\n",
        "        if return_features:\n",
        "            return x, feat_before, feat_after\n",
        "        return x\n",
        "# --- Parameters ---\n",
        "IMG_SIZE = (224, 224)\n",
        "BATCH_SIZE = 32\n",
        "EPOCHS = 50\n",
        "\n",
        "# --- Data Preparation ---\n",
        "train_dir = '/content/train111x'\n",
        "val_dir = '/content/validation111x'\n",
        "test_dir = '/content/test111x'\n",
        "\n",
        "train_datagen = ImageDataGenerator(\n",
        "    rescale=1./255,\n",
        "    rotation_range=30,\n",
        "    width_shift_range=0.2,\n",
        "    height_shift_range=0.2,\n",
        "    shear_range=0.2,\n",
        "    zoom_range=0.3,\n",
        "    horizontal_flip=True,\n",
        "    fill_mode='nearest'\n",
        ")\n",
        "\n",
        "val_datagen = ImageDataGenerator(rescale=1./255)\n",
        "test_datagen = ImageDataGenerator(rescale=1./255)\n",
        "\n",
        "train_generator = train_datagen.flow_from_directory(\n",
        "    train_dir,\n",
        "    target_size=IMG_SIZE,\n",
        "    batch_size=BATCH_SIZE,\n",
        "    class_mode='binary',\n",
        "    shuffle=True\n",
        ")\n",
        "\n",
        "val_generator = val_datagen.flow_from_directory(\n",
        "    val_dir,\n",
        "    target_size=IMG_SIZE,\n",
        "    batch_size=BATCH_SIZE,\n",
        "    class_mode='binary',\n",
        "    shuffle=False\n",
        ")\n",
        "\n",
        "test_generator = test_datagen.flow_from_directory(\n",
        "    test_dir,\n",
        "    target_size=IMG_SIZE,\n",
        "    batch_size=32,\n",
        "    class_mode='binary',\n",
        "    shuffle=False\n",
        ")\n",
        "\n",
        "# --- Model Instantiation and Compilation ---\n",
        "model = CNNWithPIConvOutput()\n",
        "model.compile(optimizer=tf.keras.optimizers.Adam(),\n",
        "              loss='binary_crossentropy',\n",
        "              metrics=['accuracy'])\n",
        "\n",
        "\n",
        "# --- Train the Model (no callbacks) ---\n",
        "history = model.fit(\n",
        "    train_generator,\n",
        "    epochs=EPOCHS,\n",
        "    validation_data=val_generator\n",
        ")\n",
        "\n",
        "# --- Evaluate on Test Data ---\n",
        "test_loss, test_acc = model.evaluate(test_generator)\n",
        "print(f\"Test Loss: {test_loss:.4f}\")\n",
        "print(f\"Test Accuracy: {test_acc:.4f}\")\n",
        "\n",
        "# --- Predictions ---\n",
        "pred_probs = model.predict(test_generator)\n",
        "pred_classes = (pred_probs > 0.5).astype(int).ravel()\n",
        "true_classes = test_generator.classes\n",
        "class_labels = list(test_generator.class_indices.keys())\n",
        "\n",
        "# --- Confusion Matrix ---\n",
        "cm = confusion_matrix(true_classes, pred_classes)\n",
        "print(\"Confusion Matrix:\\n\", cm)\n",
        "\n",
        "disp = ConfusionMatrixDisplay(confusion_matrix=cm, display_labels=class_labels)\n",
        "disp.plot(cmap=plt.cm.Blues)\n",
        "plt.title(\"Confusion Matrix\")\n",
        "plt.show()\n",
        "\n",
        "# --- Metrics ---\n",
        "accuracy = accuracy_score(true_classes, pred_classes)\n",
        "precision = precision_score(true_classes, pred_classes, zero_division=0)\n",
        "recall = recall_score(true_classes, pred_classes, zero_division=0)\n",
        "f1 = f1_score(true_classes, pred_classes, zero_division=0)\n",
        "auc = roc_auc_score(true_classes, pred_probs)\n",
        "\n",
        "print(f\"Accuracy:  {accuracy:.4f}\")\n",
        "print(f\"Precision: {precision:.4f}\")\n",
        "print(f\"Recall:    {recall:.4f}\")\n",
        "print(f\"F1 Score:  {f1:.4f}\")\n",
        "print(f\"AUC-ROC:   {auc:.4f}\")\n",
        "\n",
        "# --- ROC Curve ---\n",
        "fpr, tpr, _ = roc_curve(true_classes, pred_probs)\n",
        "plt.figure(figsize=(8,6))\n",
        "plt.plot(fpr, tpr, label=f'AUC = {auc:.2f}')\n",
        "plt.plot([0,1], [0,1], 'k--')\n",
        "plt.xlabel('False Positive Rate')\n",
        "plt.ylabel('True Positive Rate')\n",
        "plt.title('ROC Curve')\n",
        "plt.legend(loc='lower right')\n",
        "plt.grid(True)\n",
        "plt.show()"
      ],
      "metadata": {
        "id": "fLgSmo8ESrhq",
        "colab": {
          "base_uri": "https://localhost:8080/",
          "height": 1000
        },
        "outputId": "1f097a59-5f8e-4923-d9ed-a4688136c7e8"
      },
      "execution_count": null,
      "outputs": [
        {
          "output_type": "stream",
          "name": "stdout",
          "text": [
            "Found 907 images belonging to 2 classes.\n",
            "Found 113 images belonging to 2 classes.\n",
            "Found 115 images belonging to 2 classes.\n"
          ]
        },
        {
          "output_type": "stream",
          "name": "stderr",
          "text": [
            "/usr/local/lib/python3.11/dist-packages/keras/src/trainers/data_adapters/py_dataset_adapter.py:121: UserWarning: Your `PyDataset` class should call `super().__init__(**kwargs)` in its constructor. `**kwargs` can include `workers`, `use_multiprocessing`, `max_queue_size`. Do not pass these arguments to `fit()`, as they will be ignored.\n",
            "  self._warn_if_super_not_called()\n"
          ]
        },
        {
          "output_type": "stream",
          "name": "stdout",
          "text": [
            "Epoch 1/50\n",
            "\u001b[1m29/29\u001b[0m \u001b[32m━━━━━━━━━━━━━━━━━━━━\u001b[0m\u001b[37m\u001b[0m \u001b[1m20s\u001b[0m 520ms/step - accuracy: 0.8284 - loss: 0.4198 - val_accuracy: 0.4956 - val_loss: 0.9231\n",
            "Epoch 2/50\n",
            "\u001b[1m29/29\u001b[0m \u001b[32m━━━━━━━━━━━━━━━━━━━━\u001b[0m\u001b[37m\u001b[0m \u001b[1m13s\u001b[0m 431ms/step - accuracy: 0.8951 - loss: 0.3002 - val_accuracy: 0.4956 - val_loss: 1.8681\n",
            "Epoch 3/50\n",
            "\u001b[1m29/29\u001b[0m \u001b[32m━━━━━━━━━━━━━━━━━━━━\u001b[0m\u001b[37m\u001b[0m \u001b[1m13s\u001b[0m 437ms/step - accuracy: 0.8950 - loss: 0.2964 - val_accuracy: 0.4956 - val_loss: 2.5797\n",
            "Epoch 4/50\n",
            "\u001b[1m29/29\u001b[0m \u001b[32m━━━━━━━━━━━━━━━━━━━━\u001b[0m\u001b[37m\u001b[0m \u001b[1m13s\u001b[0m 435ms/step - accuracy: 0.9028 - loss: 0.2519 - val_accuracy: 0.4956 - val_loss: 2.7090\n",
            "Epoch 5/50\n",
            "\u001b[1m29/29\u001b[0m \u001b[32m━━━━━━━━━━━━━━━━━━━━\u001b[0m\u001b[37m\u001b[0m \u001b[1m13s\u001b[0m 444ms/step - accuracy: 0.9224 - loss: 0.2409 - val_accuracy: 0.4956 - val_loss: 2.0444\n",
            "Epoch 6/50\n",
            "\u001b[1m29/29\u001b[0m \u001b[32m━━━━━━━━━━━━━━━━━━━━\u001b[0m\u001b[37m\u001b[0m \u001b[1m13s\u001b[0m 438ms/step - accuracy: 0.9328 - loss: 0.2335 - val_accuracy: 0.4956 - val_loss: 1.6086\n",
            "Epoch 7/50\n",
            "\u001b[1m29/29\u001b[0m \u001b[32m━━━━━━━━━━━━━━━━━━━━\u001b[0m\u001b[37m\u001b[0m \u001b[1m12s\u001b[0m 429ms/step - accuracy: 0.9274 - loss: 0.2015 - val_accuracy: 0.4956 - val_loss: 1.6451\n",
            "Epoch 8/50\n",
            "\u001b[1m29/29\u001b[0m \u001b[32m━━━━━━━━━━━━━━━━━━━━\u001b[0m\u001b[37m\u001b[0m \u001b[1m12s\u001b[0m 430ms/step - accuracy: 0.9059 - loss: 0.2399 - val_accuracy: 0.5133 - val_loss: 1.2521\n",
            "Epoch 9/50\n",
            "\u001b[1m29/29\u001b[0m \u001b[32m━━━━━━━━━━━━━━━━━━━━\u001b[0m\u001b[37m\u001b[0m \u001b[1m13s\u001b[0m 431ms/step - accuracy: 0.9483 - loss: 0.1881 - val_accuracy: 0.5398 - val_loss: 1.2198\n",
            "Epoch 10/50\n",
            "\u001b[1m29/29\u001b[0m \u001b[32m━━━━━━━━━━━━━━━━━━━━\u001b[0m\u001b[37m\u001b[0m \u001b[1m13s\u001b[0m 433ms/step - accuracy: 0.9471 - loss: 0.1895 - val_accuracy: 0.7257 - val_loss: 1.1384\n",
            "Epoch 11/50\n",
            "\u001b[1m29/29\u001b[0m \u001b[32m━━━━━━━━━━━━━━━━━━━━\u001b[0m\u001b[37m\u001b[0m \u001b[1m12s\u001b[0m 430ms/step - accuracy: 0.9312 - loss: 0.2053 - val_accuracy: 0.6372 - val_loss: 1.2273\n",
            "Epoch 12/50\n",
            "\u001b[1m29/29\u001b[0m \u001b[32m━━━━━━━━━━━━━━━━━━━━\u001b[0m\u001b[37m\u001b[0m \u001b[1m12s\u001b[0m 429ms/step - accuracy: 0.9353 - loss: 0.2006 - val_accuracy: 0.8496 - val_loss: 0.8686\n",
            "Epoch 13/50\n",
            "\u001b[1m29/29\u001b[0m \u001b[32m━━━━━━━━━━━━━━━━━━━━\u001b[0m\u001b[37m\u001b[0m \u001b[1m12s\u001b[0m 426ms/step - accuracy: 0.9532 - loss: 0.1726 - val_accuracy: 0.8584 - val_loss: 0.7892\n",
            "Epoch 14/50\n",
            "\u001b[1m29/29\u001b[0m \u001b[32m━━━━━━━━━━━━━━━━━━━━\u001b[0m\u001b[37m\u001b[0m \u001b[1m12s\u001b[0m 427ms/step - accuracy: 0.9520 - loss: 0.1649 - val_accuracy: 0.7876 - val_loss: 0.8558\n",
            "Epoch 15/50\n",
            "\u001b[1m29/29\u001b[0m \u001b[32m━━━━━━━━━━━━━━━━━━━━\u001b[0m\u001b[37m\u001b[0m \u001b[1m13s\u001b[0m 435ms/step - accuracy: 0.9455 - loss: 0.1786 - val_accuracy: 0.5221 - val_loss: 1.1722\n",
            "Epoch 16/50\n",
            "\u001b[1m29/29\u001b[0m \u001b[32m━━━━━━━━━━━━━━━━━━━━\u001b[0m\u001b[37m\u001b[0m \u001b[1m13s\u001b[0m 432ms/step - accuracy: 0.9616 - loss: 0.1430 - val_accuracy: 0.6018 - val_loss: 1.0289\n",
            "Epoch 17/50\n",
            "\u001b[1m29/29\u001b[0m \u001b[32m━━━━━━━━━━━━━━━━━━━━\u001b[0m\u001b[37m\u001b[0m \u001b[1m14s\u001b[0m 466ms/step - accuracy: 0.9647 - loss: 0.1420 - val_accuracy: 0.9115 - val_loss: 0.3511\n",
            "Epoch 18/50\n",
            "\u001b[1m29/29\u001b[0m \u001b[32m━━━━━━━━━━━━━━━━━━━━\u001b[0m\u001b[37m\u001b[0m \u001b[1m13s\u001b[0m 433ms/step - accuracy: 0.9479 - loss: 0.1530 - val_accuracy: 0.9115 - val_loss: 0.2996\n",
            "Epoch 19/50\n",
            "\u001b[1m29/29\u001b[0m \u001b[32m━━━━━━━━━━━━━━━━━━━━\u001b[0m\u001b[37m\u001b[0m \u001b[1m20s\u001b[0m 434ms/step - accuracy: 0.9518 - loss: 0.1395 - val_accuracy: 0.9115 - val_loss: 0.3047\n",
            "Epoch 20/50\n",
            "\u001b[1m29/29\u001b[0m \u001b[32m━━━━━━━━━━━━━━━━━━━━\u001b[0m\u001b[37m\u001b[0m \u001b[1m13s\u001b[0m 437ms/step - accuracy: 0.9544 - loss: 0.1448 - val_accuracy: 0.8496 - val_loss: 0.4325\n",
            "Epoch 21/50\n",
            "\u001b[1m29/29\u001b[0m \u001b[32m━━━━━━━━━━━━━━━━━━━━\u001b[0m\u001b[37m\u001b[0m \u001b[1m13s\u001b[0m 434ms/step - accuracy: 0.9615 - loss: 0.1537 - val_accuracy: 0.8319 - val_loss: 0.4181\n",
            "Epoch 22/50\n",
            "\u001b[1m29/29\u001b[0m \u001b[32m━━━━━━━━━━━━━━━━━━━━\u001b[0m\u001b[37m\u001b[0m \u001b[1m13s\u001b[0m 436ms/step - accuracy: 0.9586 - loss: 0.1483 - val_accuracy: 0.9735 - val_loss: 0.3235\n",
            "Epoch 23/50\n",
            "\u001b[1m29/29\u001b[0m \u001b[32m━━━━━━━━━━━━━━━━━━━━\u001b[0m\u001b[37m\u001b[0m \u001b[1m13s\u001b[0m 431ms/step - accuracy: 0.9665 - loss: 0.1479 - val_accuracy: 0.6106 - val_loss: 0.6439\n",
            "Epoch 24/50\n",
            "\u001b[1m29/29\u001b[0m \u001b[32m━━━━━━━━━━━━━━━━━━━━\u001b[0m\u001b[37m\u001b[0m \u001b[1m13s\u001b[0m 433ms/step - accuracy: 0.9733 - loss: 0.1299 - val_accuracy: 0.9823 - val_loss: 0.0777\n",
            "Epoch 25/50\n",
            "\u001b[1m29/29\u001b[0m \u001b[32m━━━━━━━━━━━━━━━━━━━━\u001b[0m\u001b[37m\u001b[0m \u001b[1m13s\u001b[0m 432ms/step - accuracy: 0.9676 - loss: 0.1480 - val_accuracy: 0.5487 - val_loss: 0.7164\n",
            "Epoch 26/50\n",
            "\u001b[1m29/29\u001b[0m \u001b[32m━━━━━━━━━━━━━━━━━━━━\u001b[0m\u001b[37m\u001b[0m \u001b[1m13s\u001b[0m 435ms/step - accuracy: 0.9641 - loss: 0.1394 - val_accuracy: 0.5133 - val_loss: 0.7219\n",
            "Epoch 27/50\n",
            "\u001b[1m29/29\u001b[0m \u001b[32m━━━━━━━━━━━━━━━━━━━━\u001b[0m\u001b[37m\u001b[0m \u001b[1m13s\u001b[0m 431ms/step - accuracy: 0.9660 - loss: 0.1369 - val_accuracy: 0.5133 - val_loss: 0.9541\n",
            "Epoch 28/50\n",
            "\u001b[1m29/29\u001b[0m \u001b[32m━━━━━━━━━━━━━━━━━━━━\u001b[0m\u001b[37m\u001b[0m \u001b[1m13s\u001b[0m 430ms/step - accuracy: 0.9625 - loss: 0.1669 - val_accuracy: 0.9823 - val_loss: 0.0874\n",
            "Epoch 29/50\n",
            "\u001b[1m29/29\u001b[0m \u001b[32m━━━━━━━━━━━━━━━━━━━━\u001b[0m\u001b[37m\u001b[0m \u001b[1m13s\u001b[0m 439ms/step - accuracy: 0.9735 - loss: 0.1258 - val_accuracy: 0.9292 - val_loss: 0.1684\n",
            "Epoch 30/50\n",
            "\u001b[1m29/29\u001b[0m \u001b[32m━━━━━━━━━━━━━━━━━━━━\u001b[0m\u001b[37m\u001b[0m \u001b[1m13s\u001b[0m 435ms/step - accuracy: 0.9469 - loss: 0.1449 - val_accuracy: 0.8938 - val_loss: 0.3075\n",
            "Epoch 31/50\n",
            "\u001b[1m29/29\u001b[0m \u001b[32m━━━━━━━━━━━━━━━━━━━━\u001b[0m\u001b[37m\u001b[0m \u001b[1m13s\u001b[0m 432ms/step - accuracy: 0.9790 - loss: 0.1277 - val_accuracy: 0.9823 - val_loss: 0.1294\n",
            "Epoch 32/50\n",
            "\u001b[1m29/29\u001b[0m \u001b[32m━━━━━━━━━━━━━━━━━━━━\u001b[0m\u001b[37m\u001b[0m \u001b[1m20s\u001b[0m 429ms/step - accuracy: 0.9569 - loss: 0.1403 - val_accuracy: 0.9292 - val_loss: 0.2348\n",
            "Epoch 33/50\n",
            "\u001b[1m29/29\u001b[0m \u001b[32m━━━━━━━━━━━━━━━━━━━━\u001b[0m\u001b[37m\u001b[0m \u001b[1m13s\u001b[0m 431ms/step - accuracy: 0.9479 - loss: 0.1629 - val_accuracy: 0.9823 - val_loss: 0.1468\n",
            "Epoch 34/50\n",
            "\u001b[1m29/29\u001b[0m \u001b[32m━━━━━━━━━━━━━━━━━━━━\u001b[0m\u001b[37m\u001b[0m \u001b[1m13s\u001b[0m 432ms/step - accuracy: 0.9562 - loss: 0.1396 - val_accuracy: 0.9204 - val_loss: 0.1688\n",
            "Epoch 35/50\n",
            "\u001b[1m29/29\u001b[0m \u001b[32m━━━━━━━━━━━━━━━━━━━━\u001b[0m\u001b[37m\u001b[0m \u001b[1m13s\u001b[0m 431ms/step - accuracy: 0.9612 - loss: 0.1352 - val_accuracy: 0.9292 - val_loss: 0.1647\n",
            "Epoch 36/50\n",
            "\u001b[1m29/29\u001b[0m \u001b[32m━━━━━━━━━━━━━━━━━━━━\u001b[0m\u001b[37m\u001b[0m \u001b[1m12s\u001b[0m 427ms/step - accuracy: 0.9696 - loss: 0.1260 - val_accuracy: 0.5133 - val_loss: 1.1303\n",
            "Epoch 37/50\n",
            "\u001b[1m29/29\u001b[0m \u001b[32m━━━━━━━━━━━━━━━━━━━━\u001b[0m\u001b[37m\u001b[0m \u001b[1m12s\u001b[0m 426ms/step - accuracy: 0.9608 - loss: 0.1506 - val_accuracy: 0.9823 - val_loss: 0.0962\n",
            "Epoch 38/50\n",
            "\u001b[1m29/29\u001b[0m \u001b[32m━━━━━━━━━━━━━━━━━━━━\u001b[0m\u001b[37m\u001b[0m \u001b[1m14s\u001b[0m 470ms/step - accuracy: 0.9706 - loss: 0.1173 - val_accuracy: 0.9115 - val_loss: 0.1726\n",
            "Epoch 39/50\n",
            "\u001b[1m29/29\u001b[0m \u001b[32m━━━━━━━━━━━━━━━━━━━━\u001b[0m\u001b[37m\u001b[0m \u001b[1m13s\u001b[0m 431ms/step - accuracy: 0.9580 - loss: 0.1354 - val_accuracy: 0.9823 - val_loss: 0.0899\n",
            "Epoch 40/50\n",
            "\u001b[1m29/29\u001b[0m \u001b[32m━━━━━━━━━━━━━━━━━━━━\u001b[0m\u001b[37m\u001b[0m \u001b[1m12s\u001b[0m 428ms/step - accuracy: 0.9792 - loss: 0.1030 - val_accuracy: 0.7788 - val_loss: 0.4767\n",
            "Epoch 41/50\n",
            "\u001b[1m29/29\u001b[0m \u001b[32m━━━━━━━━━━━━━━━━━━━━\u001b[0m\u001b[37m\u001b[0m \u001b[1m13s\u001b[0m 433ms/step - accuracy: 0.9621 - loss: 0.1366 - val_accuracy: 0.6637 - val_loss: 0.5958\n",
            "Epoch 42/50\n",
            "\u001b[1m29/29\u001b[0m \u001b[32m━━━━━━━━━━━━━━━━━━━━\u001b[0m\u001b[37m\u001b[0m \u001b[1m13s\u001b[0m 432ms/step - accuracy: 0.9737 - loss: 0.1236 - val_accuracy: 0.5044 - val_loss: 1.6178\n",
            "Epoch 43/50\n",
            "\u001b[1m29/29\u001b[0m \u001b[32m━━━━━━━━━━━━━━━━━━━━\u001b[0m\u001b[37m\u001b[0m \u001b[1m20s\u001b[0m 433ms/step - accuracy: 0.9446 - loss: 0.1558 - val_accuracy: 0.9027 - val_loss: 0.5518\n",
            "Epoch 44/50\n",
            "\u001b[1m29/29\u001b[0m \u001b[32m━━━━━━━━━━━━━━━━━━━━\u001b[0m\u001b[37m\u001b[0m \u001b[1m13s\u001b[0m 436ms/step - accuracy: 0.9578 - loss: 0.1536 - val_accuracy: 0.9115 - val_loss: 0.1959\n",
            "Epoch 45/50\n",
            "\u001b[1m29/29\u001b[0m \u001b[32m━━━━━━━━━━━━━━━━━━━━\u001b[0m\u001b[37m\u001b[0m \u001b[1m13s\u001b[0m 437ms/step - accuracy: 0.9704 - loss: 0.1214 - val_accuracy: 0.9115 - val_loss: 0.3181\n",
            "Epoch 46/50\n",
            "\u001b[1m29/29\u001b[0m \u001b[32m━━━━━━━━━━━━━━━━━━━━\u001b[0m\u001b[37m\u001b[0m \u001b[1m13s\u001b[0m 435ms/step - accuracy: 0.9728 - loss: 0.1205 - val_accuracy: 0.9115 - val_loss: 0.2690\n",
            "Epoch 47/50\n",
            "\u001b[1m29/29\u001b[0m \u001b[32m━━━━━━━━━━━━━━━━━━━━\u001b[0m\u001b[37m\u001b[0m \u001b[1m12s\u001b[0m 427ms/step - accuracy: 0.9709 - loss: 0.1289 - val_accuracy: 0.9912 - val_loss: 0.1067\n",
            "Epoch 48/50\n",
            "\u001b[1m29/29\u001b[0m \u001b[32m━━━━━━━━━━━━━━━━━━━━\u001b[0m\u001b[37m\u001b[0m \u001b[1m12s\u001b[0m 426ms/step - accuracy: 0.9703 - loss: 0.1290 - val_accuracy: 0.7876 - val_loss: 0.3954\n",
            "Epoch 49/50\n",
            "\u001b[1m29/29\u001b[0m \u001b[32m━━━━━━━━━━━━━━━━━━━━\u001b[0m\u001b[37m\u001b[0m \u001b[1m13s\u001b[0m 430ms/step - accuracy: 0.9659 - loss: 0.1285 - val_accuracy: 0.8319 - val_loss: 0.3311\n",
            "Epoch 50/50\n",
            "\u001b[1m29/29\u001b[0m \u001b[32m━━━━━━━━━━━━━━━━━━━━\u001b[0m\u001b[37m\u001b[0m \u001b[1m12s\u001b[0m 429ms/step - accuracy: 0.9626 - loss: 0.1251 - val_accuracy: 0.9115 - val_loss: 0.2720\n",
            "\u001b[1m4/4\u001b[0m \u001b[32m━━━━━━━━━━━━━━━━━━━━\u001b[0m\u001b[37m\u001b[0m \u001b[1m1s\u001b[0m 217ms/step - accuracy: 0.8805 - loss: 0.4049\n",
            "Test Loss: 0.2632\n",
            "Test Accuracy: 0.9304\n"
          ]
        },
        {
          "output_type": "stream",
          "name": "stderr",
          "text": [
            "WARNING:tensorflow:5 out of the last 9 calls to <function TensorFlowTrainer.make_predict_function.<locals>.one_step_on_data_distributed at 0x7fd3499d1b20> triggered tf.function retracing. Tracing is expensive and the excessive number of tracings could be due to (1) creating @tf.function repeatedly in a loop, (2) passing tensors with different shapes, (3) passing Python objects instead of tensors. For (1), please define your @tf.function outside of the loop. For (2), @tf.function has reduce_retracing=True option that can avoid unnecessary retracing. For (3), please refer to https://www.tensorflow.org/guide/function#controlling_retracing and https://www.tensorflow.org/api_docs/python/tf/function for  more details.\n"
          ]
        },
        {
          "output_type": "stream",
          "name": "stdout",
          "text": [
            "\u001b[1m3/4\u001b[0m \u001b[32m━━━━━━━━━━━━━━━\u001b[0m\u001b[37m━━━━━\u001b[0m \u001b[1m0s\u001b[0m 102ms/step"
          ]
        },
        {
          "output_type": "stream",
          "name": "stderr",
          "text": [
            "WARNING:tensorflow:6 out of the last 12 calls to <function TensorFlowTrainer.make_predict_function.<locals>.one_step_on_data_distributed at 0x7fd3499d1b20> triggered tf.function retracing. Tracing is expensive and the excessive number of tracings could be due to (1) creating @tf.function repeatedly in a loop, (2) passing tensors with different shapes, (3) passing Python objects instead of tensors. For (1), please define your @tf.function outside of the loop. For (2), @tf.function has reduce_retracing=True option that can avoid unnecessary retracing. For (3), please refer to https://www.tensorflow.org/guide/function#controlling_retracing and https://www.tensorflow.org/api_docs/python/tf/function for  more details.\n"
          ]
        },
        {
          "output_type": "stream",
          "name": "stdout",
          "text": [
            "\u001b[1m4/4\u001b[0m \u001b[32m━━━━━━━━━━━━━━━━━━━━\u001b[0m\u001b[37m\u001b[0m \u001b[1m2s\u001b[0m 295ms/step\n",
            "Confusion Matrix:\n",
            " [[50  8]\n",
            " [ 0 57]]\n"
          ]
        },
        {
          "output_type": "display_data",
          "data": {
            "text/plain": [
              "<Figure size 640x480 with 2 Axes>"
            ],
            "image/png": "[encoded data removed]"
          },
          "metadata": {}
        },
        {
          "output_type": "stream",
          "name": "stdout",
          "text": [
            "Accuracy:  0.9304\n",
            "Precision: 0.8769\n",
            "Recall:    1.0000\n",
            "F1 Score:  0.9344\n",
            "AUC-ROC:   0.9976\n"
          ]
        },
        {
          "output_type": "display_data",
          "data": {
            "text/plain": [
              "<Figure size 800x600 with 1 Axes>"
            ],
            "image/png": "[encoded data removed]"
          },
          "metadata": {}
        }
      ]
    }
  ]
}